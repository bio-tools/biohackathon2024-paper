{
  "cells": [
    {
      "cell_type": "markdown",
      "metadata": {
        "id": "Q_ODosO4neDJ"
      },
      "source": [
        "Set up functions for Europe PMC API:"
      ]
    },
    {
      "cell_type": "code",
      "execution_count": 1,
      "metadata": {
        "id": "Dbq6d-Hyo7Zv"
      },
      "outputs": [],
      "source": [
        "import requests\n",
        "\n",
        "def fetch_hits(querystring, page_size=1000):\n",
        "    base_url = \"https://www.ebi.ac.uk/europepmc/webservices/rest/search\"\n",
        "    all_hits = set()  # Use a set to store unique IDs\n",
        "    cursor_mark = \"*\"  # Start with the initial cursor\n",
        "\n",
        "    while True:\n",
        "        params = {\n",
        "            \"query\": querystring,\n",
        "            \"resultType\": \"idlist\",\n",
        "            \"format\": \"json\",\n",
        "            \"cursorMark\": cursor_mark,  # Cursor for pagination\n",
        "            \"pageSize\": page_size\n",
        "        }\n",
        "        response = requests.get(base_url, params=params)\n",
        "\n",
        "        if response.status_code != 200:\n",
        "            print(f\"Error fetching citations for query '{querystring}': {response.status_code}\")\n",
        "            break  # Stop on request failure\n",
        "\n",
        "        data = response.json()\n",
        "\n",
        "        # Extract 'id' from each result\n",
        "        results = data.get(\"resultList\", {}).get(\"result\", [])\n",
        "        ids = {item[\"id\"] for item in results if \"id\" in item}\n",
        "\n",
        "        if not ids:\n",
        "            break  # Stop if no new results are found (last page reached)\n",
        "\n",
        "        all_hits.update(ids)  # Add new IDs\n",
        "\n",
        "        # Get the next cursorMark for pagination\n",
        "        cursor_mark = data.get(\"nextCursorMark\")\n",
        "\n",
        "        if not cursor_mark:\n",
        "            break  # Stop if there's no nextCursorMark (last page)\n",
        "\n",
        "    return list(all_hits)  # Convert to list before returning"
      ]
    },
    {
      "cell_type": "code",
      "execution_count": 2,
      "metadata": {
        "colab": {
          "base_uri": "https://localhost:8080/"
        },
        "id": "m0f-8qzbIkXc",
        "outputId": "65f8eae0-74af-49bf-a495-005add566f91"
      },
      "outputs": [
        {
          "output_type": "stream",
          "name": "stdout",
          "text": [
            "\n",
            "Fetched 44143 IDs.\n",
            "IDs saved to comet.txt.\n"
          ]
        }
      ],
      "source": [
        "comet_hits = fetch_hits(\"comet\")\n",
        "print(f\"\\nFetched {len(comet_hits)} IDs.\")\n",
        "\n",
        "output_file=\"comet.txt\"\n",
        "with open(output_file, \"w\") as file:\n",
        "  file.write(\"\\n\".join(comet_hits))\n",
        "\n",
        "print(f\"IDs saved to {output_file}.\")"
      ]
    },
    {
      "cell_type": "code",
      "execution_count": null,
      "metadata": {
        "id": "8oe6cxfHImnC"
      },
      "outputs": [],
      "source": [
        "mascot_hits = fetch_hits(\"mascot\")\n",
        "print(f\"\\nFetched {len(mascot_hits)} IDs.\")\n",
        "\n",
        "output_file=\"mascot.txt\"\n",
        "with open(output_file, \"w\") as file:\n",
        "  file.write(\"\\n\".join(mascot_hits))\n",
        "\n",
        "print(f\"IDs saved to {output_file}.\")"
      ]
    },
    {
      "cell_type": "code",
      "execution_count": null,
      "metadata": {
        "collapsed": true,
        "id": "k7oEoJNtIq20"
      },
      "outputs": [],
      "source": [
        "mascot_server_hits = fetch_hits(\"\\\"mascot server\\\"\")\n",
        "print(f\"\\nFetched {len(mascot_server_hits)} IDs.\")\n",
        "\n",
        "output_file=\"mascot_server.txt\"\n",
        "with open(output_file, \"w\") as file:\n",
        "  file.write(\"\\n\".join(mascot_server_hits))\n",
        "\n",
        "print(f\"IDs saved to {output_file}.\")"
      ]
    },
    {
      "cell_type": "code",
      "execution_count": null,
      "metadata": {
        "collapsed": true,
        "id": "xgQZ0GHcV8Vy"
      },
      "outputs": [],
      "source": [
        "maxquant_hits = fetch_hits(\"maxquant\")\n",
        "print(f\"\\nFetched {len(maxquant_hits)} IDs.\")\n",
        "\n",
        "output_file=\"maxquant.txt\"\n",
        "with open(output_file, \"w\") as file:\n",
        "  file.write(\"\\n\".join(maxquant_hits))\n",
        "\n",
        "print(f\"IDs saved to {output_file}.\")"
      ]
    },
    {
      "cell_type": "code",
      "execution_count": null,
      "metadata": {
        "colab": {
          "background_save": true
        },
        "id": "UUmgxRwdJLLE"
      },
      "outputs": [],
      "source": [
        "proteomics_hits = fetch_hits(\"proteomics\")\n",
        "print(f\"\\nFetched {len(proteomics_hits)} IDs.\")\n",
        "\n",
        "output_file=\"proteomics.txt\"\n",
        "with open(output_file, \"w\") as file:\n",
        "  file.write(\"\\n\".join(proteomics_hits))\n",
        "\n",
        "print(f\"IDs saved to {output_file}.\")"
      ]
    },
    {
      "cell_type": "code",
      "execution_count": null,
      "metadata": {
        "colab": {
          "background_save": true
        },
        "id": "M1orf_Jy0jpA"
      },
      "outputs": [],
      "source": [
        "metagenomics_hits = fetch_hits(\"metagenomics\")\n",
        "print(f\"\\nFetched {len(metagenomics_hits)} IDs.\")\n",
        "\n",
        "output_file=\"metagenomics.txt\"\n",
        "with open(output_file, \"w\") as file:\n",
        "  file.write(\"\\n\".join(metagenomics_hits))\n",
        "\n",
        "print(f\"IDs saved to {output_file}.\")"
      ]
    },
    {
      "cell_type": "code",
      "execution_count": null,
      "metadata": {
        "colab": {
          "background_save": true
        },
        "id": "6Z7tiIhjbYDq"
      },
      "outputs": [],
      "source": [
        "# Define two lists\n",
        "list1 = maxquant_hits\n",
        "list2 = proteomics_hits\n",
        "\n",
        "# Convert lists to sets for uniqueness\n",
        "set1 = set(list1)\n",
        "set2 = set(list2)\n",
        "\n",
        "# Compute set sizes\n",
        "only_in_set1 = len(set1 - set2)\n",
        "only_in_set2 = len(set2 - set1)\n",
        "intersection = len(set1 & set2)\n",
        "\n",
        "# Create Venn diagram\n",
        "plt.figure(figsize=(5,5))\n",
        "venn2(subsets=(only_in_set1, only_in_set2, intersection), set_labels=('MaxQuant', 'Proteomics'))\n",
        "\n",
        "plt.show()"
      ]
    },
    {
      "cell_type": "code",
      "execution_count": null,
      "metadata": {
        "colab": {
          "background_save": true
        },
        "id": "ULema_xH1OFp"
      },
      "outputs": [],
      "source": [
        "from matplotlib_venn import venn3\n",
        "\n",
        "# Create Venn diagram\n",
        "from matplotlib_venn import venn3\n",
        "\n",
        "# Define three lists\n",
        "list1 = comet_hits\n",
        "list2 = proteomics_hits\n",
        "list3 = metagenomics_hits\n",
        "\n",
        "# Convert lists to sets for uniqueness\n",
        "set1 = set(list1)\n",
        "set2 = set(list2)\n",
        "set3 = set(list3)\n",
        "\n",
        "# Create Venn diagram\n",
        "plt.figure(figsize=(5,5))\n",
        "venn = venn3([set1, set2, set3], ('Comet', 'Proteomics', 'Metagenomics'))\n",
        "\n",
        "plt.show()"
      ]
    },
    {
      "cell_type": "code",
      "execution_count": null,
      "metadata": {
        "id": "p2aOwGap2PuE"
      },
      "outputs": [],
      "source": [
        "# Define three lists\n",
        "list1 = mascot_hits\n",
        "list2 = proteomics_hits\n",
        "list3 = mascot_server_hits\n",
        "\n",
        "# Convert lists to sets for uniqueness\n",
        "set1 = set(list1)\n",
        "set2 = set(list2)\n",
        "set3 = set(list3)\n",
        "\n",
        "# Create Venn diagram\n",
        "plt.figure(figsize=(5,5))\n",
        "venn = venn3([set1, set2, set3], ('Mascot', 'Proteomics', 'Mascot Server'))\n",
        "\n",
        "plt.show()"
      ]
    }
  ],
  "metadata": {
    "colab": {
      "provenance": []
    },
    "kernelspec": {
      "display_name": "Python 3",
      "name": "python3"
    },
    "language_info": {
      "name": "python"
    }
  },
  "nbformat": 4,
  "nbformat_minor": 0
}
